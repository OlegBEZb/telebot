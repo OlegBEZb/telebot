{
 "cells": [
  {
   "cell_type": "code",
   "execution_count": 48,
   "metadata": {},
   "outputs": [
    {
     "name": "stdout",
     "output_type": "stream",
     "text": [
      "The autoreload extension is already loaded. To reload it, use:\n",
      "  %reload_ext autoreload\n"
     ]
    }
   ],
   "source": [
    "%load_ext autoreload\n",
    "%autoreload 2"
   ]
  },
  {
   "cell_type": "code",
   "execution_count": 49,
   "metadata": {},
   "outputs": [],
   "source": [
    "from random import randrange\n",
    "\n",
    "from datetime import datetime, timedelta, date\n",
    "\n",
    "import re\n",
    "\n",
    "import pandas as pd\n",
    "\n",
    "import os"
   ]
  },
  {
   "cell_type": "code",
   "execution_count": 50,
   "metadata": {},
   "outputs": [
    {
     "data": {
      "text/plain": [
       "['Oleg_Litvinov.csv',\n",
       " 'Oleg_Litvinov.txt',\n",
       " 'Влад Михайлович_Власенко.csv',\n",
       " 'Влад_Михайлович_Власенко.txt',\n",
       " 'Катя_Тимуровна.csv',\n",
       " 'Полина.csv']"
      ]
     },
     "execution_count": 50,
     "metadata": {},
     "output_type": "execute_result"
    }
   ],
   "source": [
    "dialogues_dir = 'dialogues'\n",
    "my_name = 'Oleg Litvinov'\n",
    "os.listdir(dialogues_dir)"
   ]
  },
  {
   "cell_type": "code",
   "execution_count": 51,
   "metadata": {
    "scrolled": true
   },
   "outputs": [
    {
     "data": {
      "text/html": [
       "<div>\n",
       "<style scoped>\n",
       "    .dataframe tbody tr th:only-of-type {\n",
       "        vertical-align: middle;\n",
       "    }\n",
       "\n",
       "    .dataframe tbody tr th {\n",
       "        vertical-align: top;\n",
       "    }\n",
       "\n",
       "    .dataframe thead th {\n",
       "        text-align: right;\n",
       "    }\n",
       "</style>\n",
       "<table border=\"1\" class=\"dataframe\">\n",
       "  <thead>\n",
       "    <tr style=\"text-align: right;\">\n",
       "      <th></th>\n",
       "      <th>datetime</th>\n",
       "      <th>sender_id</th>\n",
       "      <th>sender_name</th>\n",
       "      <th>message</th>\n",
       "    </tr>\n",
       "  </thead>\n",
       "  <tbody>\n",
       "    <tr>\n",
       "      <th>0</th>\n",
       "      <td>2017-03-20 22:34:59+00:00</td>\n",
       "      <td>47683</td>\n",
       "      <td>Oleg Litvinov</td>\n",
       "      <td>1. Берёшь крутой стикер\\n2. Пишешь сообщение\\n...</td>\n",
       "    </tr>\n",
       "    <tr>\n",
       "      <th>1</th>\n",
       "      <td>2017-03-20 22:35:10+00:00</td>\n",
       "      <td>47684</td>\n",
       "      <td>Oleg Litvinov</td>\n",
       "      <td>&lt;MessageMediaDocument&gt;</td>\n",
       "    </tr>\n",
       "    <tr>\n",
       "      <th>2</th>\n",
       "      <td>2017-03-20 22:35:14+00:00</td>\n",
       "      <td>47685</td>\n",
       "      <td>Oleg Litvinov</td>\n",
       "      <td>Привет</td>\n",
       "    </tr>\n",
       "    <tr>\n",
       "      <th>3</th>\n",
       "      <td>2017-03-20 22:36:27+00:00</td>\n",
       "      <td>47686</td>\n",
       "      <td>Катя Тимуровна</td>\n",
       "      <td>Просто оказалось, что надо было дать телеграму...</td>\n",
       "    </tr>\n",
       "    <tr>\n",
       "      <th>4</th>\n",
       "      <td>2017-03-20 22:36:48+00:00</td>\n",
       "      <td>47687</td>\n",
       "      <td>Oleg Litvinov</td>\n",
       "      <td>Что за щитовые смайлы?)</td>\n",
       "    </tr>\n",
       "  </tbody>\n",
       "</table>\n",
       "</div>"
      ],
      "text/plain": [
       "                   datetime  sender_id     sender_name  \\\n",
       "0 2017-03-20 22:34:59+00:00      47683   Oleg Litvinov   \n",
       "1 2017-03-20 22:35:10+00:00      47684   Oleg Litvinov   \n",
       "2 2017-03-20 22:35:14+00:00      47685   Oleg Litvinov   \n",
       "3 2017-03-20 22:36:27+00:00      47686  Катя Тимуровна   \n",
       "4 2017-03-20 22:36:48+00:00      47687   Oleg Litvinov   \n",
       "\n",
       "                                             message  \n",
       "0  1. Берёшь крутой стикер\\n2. Пишешь сообщение\\n...  \n",
       "1                            <MessageMediaDocument>   \n",
       "2                                             Привет  \n",
       "3  Просто оказалось, что надо было дать телеграму...  \n",
       "4                            Что за щитовые смайлы?)  "
      ]
     },
     "execution_count": 51,
     "metadata": {},
     "output_type": "execute_result"
    }
   ],
   "source": [
    "df = pd.read_csv(os.path.join(dialogues_dir, 'Катя_Тимуровна.csv'))\n",
    "df.datetime = pd.to_datetime(df.datetime)\n",
    "df.sort_values(['datetime'], inplace=True)\n",
    "df.head()"
   ]
  },
  {
   "cell_type": "code",
   "execution_count": 52,
   "metadata": {},
   "outputs": [
    {
     "data": {
      "text/plain": [
       "(253051, 4)"
      ]
     },
     "execution_count": 52,
     "metadata": {},
     "output_type": "execute_result"
    }
   ],
   "source": [
    "df.shape"
   ]
  },
  {
   "cell_type": "code",
   "execution_count": 6,
   "metadata": {
    "scrolled": true
   },
   "outputs": [
    {
     "data": {
      "text/plain": [
       "(157716, 4)"
      ]
     },
     "execution_count": 6,
     "metadata": {},
     "output_type": "execute_result"
    }
   ],
   "source": [
    "df = df[~df.isna().any(axis=1)]\n",
    "df.shape"
   ]
  },
  {
   "cell_type": "code",
   "execution_count": 7,
   "metadata": {
    "scrolled": true
   },
   "outputs": [],
   "source": [
    "# df[df.message.apply(lambda x: re.search(r'(MessageMediaPhoto)', x) is not None)].message.apply(lambda x: re.sub(r'(<\\w*Media\\w*> )', '', x))"
   ]
  },
  {
   "cell_type": "code",
   "execution_count": 8,
   "metadata": {},
   "outputs": [
    {
     "data": {
      "text/plain": [
       "(143078, 4)"
      ]
     },
     "execution_count": 8,
     "metadata": {},
     "output_type": "execute_result"
    }
   ],
   "source": [
    "df.message = df.message.apply(lambda x: re.sub(r'(<\\w*Media\\w*> )', '', x))\n",
    "\n",
    "df = df[df.message.apply(lambda x: len(x)) > 0]\n",
    "\n",
    "df.shape"
   ]
  },
  {
   "cell_type": "code",
   "execution_count": 9,
   "metadata": {},
   "outputs": [
    {
     "data": {
      "text/html": [
       "<div>\n",
       "<style scoped>\n",
       "    .dataframe tbody tr th:only-of-type {\n",
       "        vertical-align: middle;\n",
       "    }\n",
       "\n",
       "    .dataframe tbody tr th {\n",
       "        vertical-align: top;\n",
       "    }\n",
       "\n",
       "    .dataframe thead th {\n",
       "        text-align: right;\n",
       "    }\n",
       "</style>\n",
       "<table border=\"1\" class=\"dataframe\">\n",
       "  <thead>\n",
       "    <tr style=\"text-align: right;\">\n",
       "      <th></th>\n",
       "      <th>datetime</th>\n",
       "      <th>sender_id</th>\n",
       "      <th>sender_name</th>\n",
       "      <th>message</th>\n",
       "    </tr>\n",
       "  </thead>\n",
       "  <tbody>\n",
       "    <tr>\n",
       "      <th>0</th>\n",
       "      <td>2016-10-17 19:46:36+00:00</td>\n",
       "      <td>274</td>\n",
       "      <td>Влад Михайлович Власенко</td>\n",
       "      <td>Ок, ватс см удалил</td>\n",
       "    </tr>\n",
       "    <tr>\n",
       "      <th>3</th>\n",
       "      <td>2016-10-17 19:54:21+00:00</td>\n",
       "      <td>280</td>\n",
       "      <td>Влад Михайлович Власенко</td>\n",
       "      <td>Лол)</td>\n",
       "    </tr>\n",
       "    <tr>\n",
       "      <th>4</th>\n",
       "      <td>2016-10-17 19:54:51+00:00</td>\n",
       "      <td>281</td>\n",
       "      <td>Oleg Litvinov</td>\n",
       "      <td>Норм)\\nЯ спать пойду)\\nВ 7 вождение)</td>\n",
       "    </tr>\n",
       "    <tr>\n",
       "      <th>5</th>\n",
       "      <td>2016-10-17 19:54:53+00:00</td>\n",
       "      <td>282</td>\n",
       "      <td>Oleg Litvinov</td>\n",
       "      <td>Спок)</td>\n",
       "    </tr>\n",
       "    <tr>\n",
       "      <th>6</th>\n",
       "      <td>2016-10-17 19:54:57+00:00</td>\n",
       "      <td>283</td>\n",
       "      <td>Влад Михайлович Власенко</td>\n",
       "      <td>Теплых</td>\n",
       "    </tr>\n",
       "  </tbody>\n",
       "</table>\n",
       "</div>"
      ],
      "text/plain": [
       "                   datetime  sender_id               sender_name  \\\n",
       "0 2016-10-17 19:46:36+00:00        274  Влад Михайлович Власенко   \n",
       "3 2016-10-17 19:54:21+00:00        280  Влад Михайлович Власенко   \n",
       "4 2016-10-17 19:54:51+00:00        281             Oleg Litvinov   \n",
       "5 2016-10-17 19:54:53+00:00        282             Oleg Litvinov   \n",
       "6 2016-10-17 19:54:57+00:00        283  Влад Михайлович Власенко   \n",
       "\n",
       "                                message  \n",
       "0                    Ок, ватс см удалил  \n",
       "3                                  Лол)  \n",
       "4  Норм)\\nЯ спать пойду)\\nВ 7 вождение)  \n",
       "5                                 Спок)  \n",
       "6                                Теплых  "
      ]
     },
     "execution_count": 9,
     "metadata": {},
     "output_type": "execute_result"
    }
   ],
   "source": [
    "df.head()"
   ]
  },
  {
   "cell_type": "code",
   "execution_count": 10,
   "metadata": {},
   "outputs": [],
   "source": [
    "df['from_prev_msg'] = df.datetime - df.datetime.shift(1)"
   ]
  },
  {
   "cell_type": "code",
   "execution_count": 11,
   "metadata": {},
   "outputs": [
    {
     "data": {
      "text/html": [
       "<div>\n",
       "<style scoped>\n",
       "    .dataframe tbody tr th:only-of-type {\n",
       "        vertical-align: middle;\n",
       "    }\n",
       "\n",
       "    .dataframe tbody tr th {\n",
       "        vertical-align: top;\n",
       "    }\n",
       "\n",
       "    .dataframe thead th {\n",
       "        text-align: right;\n",
       "    }\n",
       "</style>\n",
       "<table border=\"1\" class=\"dataframe\">\n",
       "  <thead>\n",
       "    <tr style=\"text-align: right;\">\n",
       "      <th></th>\n",
       "      <th>datetime</th>\n",
       "      <th>sender_id</th>\n",
       "      <th>sender_name</th>\n",
       "      <th>message</th>\n",
       "      <th>from_prev_msg</th>\n",
       "    </tr>\n",
       "  </thead>\n",
       "  <tbody>\n",
       "    <tr>\n",
       "      <th>0</th>\n",
       "      <td>2016-10-17 19:46:36+00:00</td>\n",
       "      <td>274</td>\n",
       "      <td>Влад Михайлович Власенко</td>\n",
       "      <td>Ок, ватс см удалил</td>\n",
       "      <td>NaN</td>\n",
       "    </tr>\n",
       "    <tr>\n",
       "      <th>3</th>\n",
       "      <td>2016-10-17 19:54:21+00:00</td>\n",
       "      <td>280</td>\n",
       "      <td>Влад Михайлович Власенко</td>\n",
       "      <td>Лол)</td>\n",
       "      <td>0.0</td>\n",
       "    </tr>\n",
       "    <tr>\n",
       "      <th>4</th>\n",
       "      <td>2016-10-17 19:54:51+00:00</td>\n",
       "      <td>281</td>\n",
       "      <td>Oleg Litvinov</td>\n",
       "      <td>Норм)\\nЯ спать пойду)\\nВ 7 вождение)</td>\n",
       "      <td>0.0</td>\n",
       "    </tr>\n",
       "    <tr>\n",
       "      <th>5</th>\n",
       "      <td>2016-10-17 19:54:53+00:00</td>\n",
       "      <td>282</td>\n",
       "      <td>Oleg Litvinov</td>\n",
       "      <td>Спок)</td>\n",
       "      <td>0.0</td>\n",
       "    </tr>\n",
       "    <tr>\n",
       "      <th>6</th>\n",
       "      <td>2016-10-17 19:54:57+00:00</td>\n",
       "      <td>283</td>\n",
       "      <td>Влад Михайлович Власенко</td>\n",
       "      <td>Теплых</td>\n",
       "      <td>0.0</td>\n",
       "    </tr>\n",
       "    <tr>\n",
       "      <th>...</th>\n",
       "      <td>...</td>\n",
       "      <td>...</td>\n",
       "      <td>...</td>\n",
       "      <td>...</td>\n",
       "      <td>...</td>\n",
       "    </tr>\n",
       "    <tr>\n",
       "      <th>157815</th>\n",
       "      <td>2021-04-02 17:30:33+00:00</td>\n",
       "      <td>695478</td>\n",
       "      <td>Влад Михайлович Власенко</td>\n",
       "      <td>И по времени тож</td>\n",
       "      <td>0.0</td>\n",
       "    </tr>\n",
       "    <tr>\n",
       "      <th>157816</th>\n",
       "      <td>2021-04-02 17:36:07+00:00</td>\n",
       "      <td>695479</td>\n",
       "      <td>Влад Михайлович Власенко</td>\n",
       "      <td>Но вроде как туристам нельзя или карантин</td>\n",
       "      <td>0.0</td>\n",
       "    </tr>\n",
       "    <tr>\n",
       "      <th>157817</th>\n",
       "      <td>2021-04-02 17:57:00+00:00</td>\n",
       "      <td>695481</td>\n",
       "      <td>Oleg Litvinov</td>\n",
       "      <td>лел</td>\n",
       "      <td>0.0</td>\n",
       "    </tr>\n",
       "    <tr>\n",
       "      <th>157818</th>\n",
       "      <td>2021-04-03 08:34:44+00:00</td>\n",
       "      <td>695485</td>\n",
       "      <td>Oleg Litvinov</td>\n",
       "      <td>что с нами не так</td>\n",
       "      <td>14.0</td>\n",
       "    </tr>\n",
       "    <tr>\n",
       "      <th>157819</th>\n",
       "      <td>2021-04-03 08:43:13+00:00</td>\n",
       "      <td>695486</td>\n",
       "      <td>Влад Михайлович Власенко</td>\n",
       "      <td>)))))))</td>\n",
       "      <td>0.0</td>\n",
       "    </tr>\n",
       "  </tbody>\n",
       "</table>\n",
       "<p>143078 rows × 5 columns</p>\n",
       "</div>"
      ],
      "text/plain": [
       "                        datetime  sender_id               sender_name  \\\n",
       "0      2016-10-17 19:46:36+00:00        274  Влад Михайлович Власенко   \n",
       "3      2016-10-17 19:54:21+00:00        280  Влад Михайлович Власенко   \n",
       "4      2016-10-17 19:54:51+00:00        281             Oleg Litvinov   \n",
       "5      2016-10-17 19:54:53+00:00        282             Oleg Litvinov   \n",
       "6      2016-10-17 19:54:57+00:00        283  Влад Михайлович Власенко   \n",
       "...                          ...        ...                       ...   \n",
       "157815 2021-04-02 17:30:33+00:00     695478  Влад Михайлович Власенко   \n",
       "157816 2021-04-02 17:36:07+00:00     695479  Влад Михайлович Власенко   \n",
       "157817 2021-04-02 17:57:00+00:00     695481             Oleg Litvinov   \n",
       "157818 2021-04-03 08:34:44+00:00     695485             Oleg Litvinov   \n",
       "157819 2021-04-03 08:43:13+00:00     695486  Влад Михайлович Власенко   \n",
       "\n",
       "                                          message  from_prev_msg  \n",
       "0                              Ок, ватс см удалил            NaN  \n",
       "3                                            Лол)            0.0  \n",
       "4            Норм)\\nЯ спать пойду)\\nВ 7 вождение)            0.0  \n",
       "5                                           Спок)            0.0  \n",
       "6                                          Теплых            0.0  \n",
       "...                                           ...            ...  \n",
       "157815                           И по времени тож            0.0  \n",
       "157816  Но вроде как туристам нельзя или карантин            0.0  \n",
       "157817                                        лел            0.0  \n",
       "157818                          что с нами не так           14.0  \n",
       "157819                                    )))))))            0.0  \n",
       "\n",
       "[143078 rows x 5 columns]"
      ]
     },
     "execution_count": 11,
     "metadata": {},
     "output_type": "execute_result"
    }
   ],
   "source": [
    "df.from_prev_msg = df.from_prev_msg.astype('timedelta64[h]')\n",
    "df"
   ]
  },
  {
   "cell_type": "code",
   "execution_count": 12,
   "metadata": {},
   "outputs": [
    {
     "data": {
      "text/html": [
       "<div>\n",
       "<style scoped>\n",
       "    .dataframe tbody tr th:only-of-type {\n",
       "        vertical-align: middle;\n",
       "    }\n",
       "\n",
       "    .dataframe tbody tr th {\n",
       "        vertical-align: top;\n",
       "    }\n",
       "\n",
       "    .dataframe thead th {\n",
       "        text-align: right;\n",
       "    }\n",
       "</style>\n",
       "<table border=\"1\" class=\"dataframe\">\n",
       "  <thead>\n",
       "    <tr style=\"text-align: right;\">\n",
       "      <th></th>\n",
       "      <th>datetime</th>\n",
       "      <th>sender_id</th>\n",
       "      <th>sender_name</th>\n",
       "      <th>message</th>\n",
       "      <th>from_prev_msg</th>\n",
       "      <th>new_topic</th>\n",
       "    </tr>\n",
       "  </thead>\n",
       "  <tbody>\n",
       "    <tr>\n",
       "      <th>0</th>\n",
       "      <td>2016-10-17 19:46:36+00:00</td>\n",
       "      <td>274</td>\n",
       "      <td>Влад Михайлович Власенко</td>\n",
       "      <td>Ок, ватс см удалил</td>\n",
       "      <td>NaN</td>\n",
       "      <td>False</td>\n",
       "    </tr>\n",
       "    <tr>\n",
       "      <th>3</th>\n",
       "      <td>2016-10-17 19:54:21+00:00</td>\n",
       "      <td>280</td>\n",
       "      <td>Влад Михайлович Власенко</td>\n",
       "      <td>Лол)</td>\n",
       "      <td>0.0</td>\n",
       "      <td>False</td>\n",
       "    </tr>\n",
       "    <tr>\n",
       "      <th>4</th>\n",
       "      <td>2016-10-17 19:54:51+00:00</td>\n",
       "      <td>281</td>\n",
       "      <td>Oleg Litvinov</td>\n",
       "      <td>Норм)\\nЯ спать пойду)\\nВ 7 вождение)</td>\n",
       "      <td>0.0</td>\n",
       "      <td>False</td>\n",
       "    </tr>\n",
       "    <tr>\n",
       "      <th>5</th>\n",
       "      <td>2016-10-17 19:54:53+00:00</td>\n",
       "      <td>282</td>\n",
       "      <td>Oleg Litvinov</td>\n",
       "      <td>Спок)</td>\n",
       "      <td>0.0</td>\n",
       "      <td>False</td>\n",
       "    </tr>\n",
       "    <tr>\n",
       "      <th>6</th>\n",
       "      <td>2016-10-17 19:54:57+00:00</td>\n",
       "      <td>283</td>\n",
       "      <td>Влад Михайлович Власенко</td>\n",
       "      <td>Теплых</td>\n",
       "      <td>0.0</td>\n",
       "      <td>False</td>\n",
       "    </tr>\n",
       "  </tbody>\n",
       "</table>\n",
       "</div>"
      ],
      "text/plain": [
       "                   datetime  sender_id               sender_name  \\\n",
       "0 2016-10-17 19:46:36+00:00        274  Влад Михайлович Власенко   \n",
       "3 2016-10-17 19:54:21+00:00        280  Влад Михайлович Власенко   \n",
       "4 2016-10-17 19:54:51+00:00        281             Oleg Litvinov   \n",
       "5 2016-10-17 19:54:53+00:00        282             Oleg Litvinov   \n",
       "6 2016-10-17 19:54:57+00:00        283  Влад Михайлович Власенко   \n",
       "\n",
       "                                message  from_prev_msg  new_topic  \n",
       "0                    Ок, ватс см удалил            NaN      False  \n",
       "3                                  Лол)            0.0      False  \n",
       "4  Норм)\\nЯ спать пойду)\\nВ 7 вождение)            0.0      False  \n",
       "5                                 Спок)            0.0      False  \n",
       "6                                Теплых            0.0      False  "
      ]
     },
     "execution_count": 12,
     "metadata": {},
     "output_type": "execute_result"
    }
   ],
   "source": [
    "df['new_topic'] = df['from_prev_msg'] > 4\n",
    "df.head()"
   ]
  },
  {
   "cell_type": "code",
   "execution_count": 13,
   "metadata": {},
   "outputs": [
    {
     "data": {
      "text/html": [
       "<div>\n",
       "<style scoped>\n",
       "    .dataframe tbody tr th:only-of-type {\n",
       "        vertical-align: middle;\n",
       "    }\n",
       "\n",
       "    .dataframe tbody tr th {\n",
       "        vertical-align: top;\n",
       "    }\n",
       "\n",
       "    .dataframe thead th {\n",
       "        text-align: right;\n",
       "    }\n",
       "</style>\n",
       "<table border=\"1\" class=\"dataframe\">\n",
       "  <thead>\n",
       "    <tr style=\"text-align: right;\">\n",
       "      <th></th>\n",
       "      <th>datetime</th>\n",
       "      <th>sender_id</th>\n",
       "      <th>sender_name</th>\n",
       "      <th>message</th>\n",
       "      <th>from_prev_msg</th>\n",
       "      <th>new_topic</th>\n",
       "    </tr>\n",
       "  </thead>\n",
       "  <tbody>\n",
       "    <tr>\n",
       "      <th>0</th>\n",
       "      <td>2016-10-17 19:46:36+00:00</td>\n",
       "      <td>274</td>\n",
       "      <td>Влад Михайлович Власенко</td>\n",
       "      <td>Ок, ватс см удалил</td>\n",
       "      <td>NaN</td>\n",
       "      <td>False</td>\n",
       "    </tr>\n",
       "    <tr>\n",
       "      <th>1</th>\n",
       "      <td>2016-10-17 19:54:21+00:00</td>\n",
       "      <td>280</td>\n",
       "      <td>Влад Михайлович Власенко</td>\n",
       "      <td>Лол)</td>\n",
       "      <td>0.0</td>\n",
       "      <td>False</td>\n",
       "    </tr>\n",
       "    <tr>\n",
       "      <th>2</th>\n",
       "      <td>2016-10-17 19:54:51+00:00</td>\n",
       "      <td>281</td>\n",
       "      <td>Oleg Litvinov</td>\n",
       "      <td>Норм)\\nЯ спать пойду)\\nВ 7 вождение)</td>\n",
       "      <td>0.0</td>\n",
       "      <td>False</td>\n",
       "    </tr>\n",
       "    <tr>\n",
       "      <th>3</th>\n",
       "      <td>2016-10-17 19:54:53+00:00</td>\n",
       "      <td>282</td>\n",
       "      <td>Oleg Litvinov</td>\n",
       "      <td>Спок)</td>\n",
       "      <td>0.0</td>\n",
       "      <td>False</td>\n",
       "    </tr>\n",
       "    <tr>\n",
       "      <th>4</th>\n",
       "      <td>2016-10-17 19:54:57+00:00</td>\n",
       "      <td>283</td>\n",
       "      <td>Влад Михайлович Власенко</td>\n",
       "      <td>Теплых</td>\n",
       "      <td>0.0</td>\n",
       "      <td>False</td>\n",
       "    </tr>\n",
       "  </tbody>\n",
       "</table>\n",
       "</div>"
      ],
      "text/plain": [
       "                   datetime  sender_id               sender_name  \\\n",
       "0 2016-10-17 19:46:36+00:00        274  Влад Михайлович Власенко   \n",
       "1 2016-10-17 19:54:21+00:00        280  Влад Михайлович Власенко   \n",
       "2 2016-10-17 19:54:51+00:00        281             Oleg Litvinov   \n",
       "3 2016-10-17 19:54:53+00:00        282             Oleg Litvinov   \n",
       "4 2016-10-17 19:54:57+00:00        283  Влад Михайлович Власенко   \n",
       "\n",
       "                                message  from_prev_msg  new_topic  \n",
       "0                    Ок, ватс см удалил            NaN      False  \n",
       "1                                  Лол)            0.0      False  \n",
       "2  Норм)\\nЯ спать пойду)\\nВ 7 вождение)            0.0      False  \n",
       "3                                 Спок)            0.0      False  \n",
       "4                                Теплых            0.0      False  "
      ]
     },
     "execution_count": 13,
     "metadata": {},
     "output_type": "execute_result"
    }
   ],
   "source": [
    "df.reset_index(drop=True, inplace=True)\n",
    "df.head()"
   ]
  },
  {
   "cell_type": "code",
   "execution_count": 14,
   "metadata": {
    "scrolled": false
   },
   "outputs": [
    {
     "data": {
      "text/plain": [
       "Влад Михайлович Власенко    74990\n",
       "Oleg Litvinov               68088\n",
       "Name: sender_name, dtype: int64"
      ]
     },
     "execution_count": 14,
     "metadata": {},
     "output_type": "execute_result"
    }
   ],
   "source": [
    "df.sender_name.value_counts()"
   ]
  },
  {
   "cell_type": "code",
   "execution_count": 15,
   "metadata": {},
   "outputs": [],
   "source": [
    "df['is_answer'] = df.sender_name != df.sender_name.shift(1)"
   ]
  },
  {
   "cell_type": "code",
   "execution_count": 16,
   "metadata": {},
   "outputs": [
    {
     "data": {
      "text/html": [
       "<div>\n",
       "<style scoped>\n",
       "    .dataframe tbody tr th:only-of-type {\n",
       "        vertical-align: middle;\n",
       "    }\n",
       "\n",
       "    .dataframe tbody tr th {\n",
       "        vertical-align: top;\n",
       "    }\n",
       "\n",
       "    .dataframe thead th {\n",
       "        text-align: right;\n",
       "    }\n",
       "</style>\n",
       "<table border=\"1\" class=\"dataframe\">\n",
       "  <thead>\n",
       "    <tr style=\"text-align: right;\">\n",
       "      <th></th>\n",
       "      <th>datetime</th>\n",
       "      <th>sender_id</th>\n",
       "      <th>sender_name</th>\n",
       "      <th>message</th>\n",
       "      <th>from_prev_msg</th>\n",
       "      <th>new_topic</th>\n",
       "      <th>is_answer</th>\n",
       "    </tr>\n",
       "  </thead>\n",
       "  <tbody>\n",
       "    <tr>\n",
       "      <th>0</th>\n",
       "      <td>2016-10-17 19:46:36+00:00</td>\n",
       "      <td>274</td>\n",
       "      <td>Влад Михайлович Власенко</td>\n",
       "      <td>Ок, ватс см удалил</td>\n",
       "      <td>NaN</td>\n",
       "      <td>False</td>\n",
       "      <td>True</td>\n",
       "    </tr>\n",
       "    <tr>\n",
       "      <th>1</th>\n",
       "      <td>2016-10-17 19:54:21+00:00</td>\n",
       "      <td>280</td>\n",
       "      <td>Влад Михайлович Власенко</td>\n",
       "      <td>Лол)</td>\n",
       "      <td>0.0</td>\n",
       "      <td>False</td>\n",
       "      <td>False</td>\n",
       "    </tr>\n",
       "    <tr>\n",
       "      <th>2</th>\n",
       "      <td>2016-10-17 19:54:51+00:00</td>\n",
       "      <td>281</td>\n",
       "      <td>Oleg Litvinov</td>\n",
       "      <td>Норм)\\nЯ спать пойду)\\nВ 7 вождение)</td>\n",
       "      <td>0.0</td>\n",
       "      <td>False</td>\n",
       "      <td>True</td>\n",
       "    </tr>\n",
       "    <tr>\n",
       "      <th>3</th>\n",
       "      <td>2016-10-17 19:54:53+00:00</td>\n",
       "      <td>282</td>\n",
       "      <td>Oleg Litvinov</td>\n",
       "      <td>Спок)</td>\n",
       "      <td>0.0</td>\n",
       "      <td>False</td>\n",
       "      <td>False</td>\n",
       "    </tr>\n",
       "    <tr>\n",
       "      <th>4</th>\n",
       "      <td>2016-10-17 19:54:57+00:00</td>\n",
       "      <td>283</td>\n",
       "      <td>Влад Михайлович Власенко</td>\n",
       "      <td>Теплых</td>\n",
       "      <td>0.0</td>\n",
       "      <td>False</td>\n",
       "      <td>True</td>\n",
       "    </tr>\n",
       "  </tbody>\n",
       "</table>\n",
       "</div>"
      ],
      "text/plain": [
       "                   datetime  sender_id               sender_name  \\\n",
       "0 2016-10-17 19:46:36+00:00        274  Влад Михайлович Власенко   \n",
       "1 2016-10-17 19:54:21+00:00        280  Влад Михайлович Власенко   \n",
       "2 2016-10-17 19:54:51+00:00        281             Oleg Litvinov   \n",
       "3 2016-10-17 19:54:53+00:00        282             Oleg Litvinov   \n",
       "4 2016-10-17 19:54:57+00:00        283  Влад Михайлович Власенко   \n",
       "\n",
       "                                message  from_prev_msg  new_topic  is_answer  \n",
       "0                    Ок, ватс см удалил            NaN      False       True  \n",
       "1                                  Лол)            0.0      False      False  \n",
       "2  Норм)\\nЯ спать пойду)\\nВ 7 вождение)            0.0      False       True  \n",
       "3                                 Спок)            0.0      False      False  \n",
       "4                                Теплых            0.0      False       True  "
      ]
     },
     "execution_count": 16,
     "metadata": {},
     "output_type": "execute_result"
    }
   ],
   "source": [
    "df.head()"
   ]
  },
  {
   "cell_type": "code",
   "execution_count": 37,
   "metadata": {},
   "outputs": [],
   "source": [
    "from tqdm import tqdm"
   ]
  },
  {
   "cell_type": "code",
   "execution_count": 45,
   "metadata": {
    "scrolled": true
   },
   "outputs": [],
   "source": [
    "def generate_train_file(df):\n",
    "    final_string = []\n",
    "    for index, series in tqdm(df.iterrows(), total=len(df)):\n",
    "#         print(index)\n",
    "        if (series['sender_name'] == my_name) and (series['is_answer'] == True) and (index > 10):\n",
    "            story_len = randrange(1, min(30, index))\n",
    "#             print('story_len', story_len)\n",
    "            history_df = df.loc[index-story_len:index+1, ['sender_name', 'message']]\n",
    "            output_string = \"<s>\" + \"\\n\".join((history_df['sender_name'] + \": \" + history_df['message']).values)\n",
    "#             print(output_string)\n",
    "            final_string.append(output_string)\n",
    "    final_string = \"\\n\".join(final_string)\n",
    "    return final_string"
   ]
  },
  {
   "cell_type": "code",
   "execution_count": 32,
   "metadata": {},
   "outputs": [],
   "source": [
    "train_end = date(2020, 1, 1)\n",
    "val_end = date(2021, 1, 1)\n",
    "test_end = df.datetime.max().date() - timedelta(weeks=1)"
   ]
  },
  {
   "cell_type": "code",
   "execution_count": 33,
   "metadata": {
    "scrolled": true
   },
   "outputs": [],
   "source": [
    "train_df = df[df.datetime.dt.date < train_end]\n",
    "val_df = df[(df.datetime.dt.date < val_end) & (df.datetime.dt.date >= train_end)]\n",
    "test_df = df[(df.datetime.dt.date < test_end) & (df.datetime.dt.date >= val_end)]"
   ]
  },
  {
   "cell_type": "code",
   "execution_count": 35,
   "metadata": {},
   "outputs": [
    {
     "data": {
      "text/plain": [
       "((119384, 7), (21822, 7), (1690, 7))"
      ]
     },
     "execution_count": 35,
     "metadata": {},
     "output_type": "execute_result"
    }
   ],
   "source": [
    "train_df.shape, val_df.shape, test_df.shape"
   ]
  },
  {
   "cell_type": "code",
   "execution_count": 46,
   "metadata": {
    "scrolled": true
   },
   "outputs": [
    {
     "name": "stderr",
     "output_type": "stream",
     "text": [
      "100%|████████████████████████████████████████████████████████████████████████████| 1690/1690 [00:00<00:00, 2381.65it/s]\n"
     ]
    }
   ],
   "source": [
    "test_file = generate_train_file(test_df)"
   ]
  },
  {
   "cell_type": "code",
   "execution_count": 39,
   "metadata": {},
   "outputs": [
    {
     "name": "stderr",
     "output_type": "stream",
     "text": [
      "100%|█████████████████████████████████████████████████████████████████████████| 119384/119384 [12:39<00:00, 157.12it/s]\n",
      "100%|███████████████████████████████████████████████████████████████████████████| 21822/21822 [00:41<00:00, 521.21it/s]\n"
     ]
    }
   ],
   "source": [
    "train_file = generate_train_file(train_df)\n",
    "val_df = generate_train_file(val_df)"
   ]
  },
  {
   "cell_type": "code",
   "execution_count": 44,
   "metadata": {},
   "outputs": [],
   "source": [
    "with open(\"train.txt\", \"w\", encoding=\"utf-8\") as text_file:\n",
    "    text_file.write(train_file)"
   ]
  },
  {
   "cell_type": "code",
   "execution_count": 43,
   "metadata": {},
   "outputs": [],
   "source": [
    "with open(\"valid.txt\", \"w\", encoding=\"utf-8\") as text_file:\n",
    "    text_file.write(val_df)"
   ]
  },
  {
   "cell_type": "code",
   "execution_count": 47,
   "metadata": {},
   "outputs": [],
   "source": [
    "with open(\"test.txt\", \"w\", encoding=\"utf-8\") as text_file:\n",
    "    text_file.write(test_file)"
   ]
  },
  {
   "cell_type": "code",
   "execution_count": null,
   "metadata": {},
   "outputs": [],
   "source": []
  }
 ],
 "metadata": {
  "kernelspec": {
   "display_name": "Python 3",
   "language": "python",
   "name": "python3"
  },
  "language_info": {
   "codemirror_mode": {
    "name": "ipython",
    "version": 3
   },
   "file_extension": ".py",
   "mimetype": "text/x-python",
   "name": "python",
   "nbconvert_exporter": "python",
   "pygments_lexer": "ipython3",
   "version": "3.6.9"
  },
  "latex_envs": {
   "LaTeX_envs_menu_present": true,
   "autoclose": false,
   "autocomplete": true,
   "bibliofile": "biblio.bib",
   "cite_by": "apalike",
   "current_citInitial": 1,
   "eqLabelWithNumbers": true,
   "eqNumInitial": 1,
   "hotkeys": {
    "equation": "Ctrl-E",
    "itemize": "Ctrl-I"
   },
   "labels_anchors": false,
   "latex_user_defs": false,
   "report_style_numbering": false,
   "user_envs_cfg": false
  },
  "toc": {
   "base_numbering": 1,
   "nav_menu": {},
   "number_sections": true,
   "sideBar": true,
   "skip_h1_title": false,
   "title_cell": "Table of Contents",
   "title_sidebar": "Contents",
   "toc_cell": false,
   "toc_position": {},
   "toc_section_display": true,
   "toc_window_display": true
  },
  "varInspector": {
   "cols": {
    "lenName": 16,
    "lenType": 16,
    "lenVar": 40
   },
   "kernels_config": {
    "python": {
     "delete_cmd_postfix": "",
     "delete_cmd_prefix": "del ",
     "library": "var_list.py",
     "varRefreshCmd": "print(var_dic_list())"
    },
    "r": {
     "delete_cmd_postfix": ") ",
     "delete_cmd_prefix": "rm(",
     "library": "var_list.r",
     "varRefreshCmd": "cat(var_dic_list()) "
    }
   },
   "types_to_exclude": [
    "module",
    "function",
    "builtin_function_or_method",
    "instance",
    "_Feature"
   ],
   "window_display": false
  }
 },
 "nbformat": 4,
 "nbformat_minor": 2
}
