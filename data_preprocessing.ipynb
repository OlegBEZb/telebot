{
 "cells": [
  {
   "cell_type": "code",
   "execution_count": 1,
   "metadata": {
    "scrolled": true
   },
   "outputs": [],
   "source": [
    "%load_ext autoreload\n",
    "%autoreload 2"
   ]
  },
  {
   "cell_type": "code",
   "execution_count": 2,
   "metadata": {},
   "outputs": [],
   "source": [
    "from tqdm import tqdm\n",
    "\n",
    "from random import randrange\n",
    "\n",
    "from datetime import datetime, timedelta, date\n",
    "\n",
    "import re\n",
    "\n",
    "import pandas as pd\n",
    "\n",
    "import os"
   ]
  },
  {
   "cell_type": "code",
   "execution_count": 3,
   "metadata": {},
   "outputs": [
    {
     "data": {
      "text/plain": [
       "['Oleg_Litvinov.csv',\n",
       " 'Oleg_Litvinov.txt',\n",
       " 'Влад Михайлович_Власенко.csv',\n",
       " 'Влад_Михайлович_Власенко.txt',\n",
       " 'Катя_Тимуровна.csv',\n",
       " 'Полина.csv']"
      ]
     },
     "execution_count": 3,
     "metadata": {},
     "output_type": "execute_result"
    }
   ],
   "source": [
    "dialogues_dir = 'dialogues'\n",
    "os.listdir(dialogues_dir)"
   ]
  },
  {
   "cell_type": "code",
   "execution_count": 4,
   "metadata": {},
   "outputs": [],
   "source": [
    "my_name = 'Oleg Litvinov'\n",
    "companion_name = 'Катя_Тимуровна'"
   ]
  },
  {
   "cell_type": "code",
   "execution_count": 5,
   "metadata": {
    "scrolled": true
   },
   "outputs": [
    {
     "data": {
      "text/html": [
       "<div>\n",
       "<style scoped>\n",
       "    .dataframe tbody tr th:only-of-type {\n",
       "        vertical-align: middle;\n",
       "    }\n",
       "\n",
       "    .dataframe tbody tr th {\n",
       "        vertical-align: top;\n",
       "    }\n",
       "\n",
       "    .dataframe thead th {\n",
       "        text-align: right;\n",
       "    }\n",
       "</style>\n",
       "<table border=\"1\" class=\"dataframe\">\n",
       "  <thead>\n",
       "    <tr style=\"text-align: right;\">\n",
       "      <th></th>\n",
       "      <th>datetime</th>\n",
       "      <th>sender_id</th>\n",
       "      <th>sender_name</th>\n",
       "      <th>message</th>\n",
       "    </tr>\n",
       "  </thead>\n",
       "  <tbody>\n",
       "    <tr>\n",
       "      <th>0</th>\n",
       "      <td>2017-03-20 22:34:59+00:00</td>\n",
       "      <td>47683</td>\n",
       "      <td>Oleg Litvinov</td>\n",
       "      <td>1. Берёшь крутой стикер\\n2. Пишешь сообщение\\n...</td>\n",
       "    </tr>\n",
       "    <tr>\n",
       "      <th>1</th>\n",
       "      <td>2017-03-20 22:35:10+00:00</td>\n",
       "      <td>47684</td>\n",
       "      <td>Oleg Litvinov</td>\n",
       "      <td>&lt;MessageMediaDocument&gt;</td>\n",
       "    </tr>\n",
       "  </tbody>\n",
       "</table>\n",
       "</div>"
      ],
      "text/plain": [
       "                   datetime  sender_id    sender_name  \\\n",
       "0 2017-03-20 22:34:59+00:00      47683  Oleg Litvinov   \n",
       "1 2017-03-20 22:35:10+00:00      47684  Oleg Litvinov   \n",
       "\n",
       "                                             message  \n",
       "0  1. Берёшь крутой стикер\\n2. Пишешь сообщение\\n...  \n",
       "1                            <MessageMediaDocument>   "
      ]
     },
     "execution_count": 5,
     "metadata": {},
     "output_type": "execute_result"
    }
   ],
   "source": [
    "df = pd.read_csv(os.path.join(dialogues_dir, companion_name+'.csv'))\n",
    "df.datetime = pd.to_datetime(df.datetime)\n",
    "df.sort_values(['datetime'], inplace=True)\n",
    "df.head(2)"
   ]
  },
  {
   "cell_type": "code",
   "execution_count": 6,
   "metadata": {
    "scrolled": true
   },
   "outputs": [
    {
     "data": {
      "text/plain": [
       "(252743, 4)"
      ]
     },
     "execution_count": 6,
     "metadata": {},
     "output_type": "execute_result"
    }
   ],
   "source": [
    "df = df[~df.isna().any(axis=1)]\n",
    "df.shape"
   ]
  },
  {
   "cell_type": "code",
   "execution_count": 7,
   "metadata": {
    "scrolled": true
   },
   "outputs": [],
   "source": [
    "# df[df.message.apply(lambda x: re.search(r'(MessageMediaPhoto)', x) is not None)].message.apply(lambda x: re.sub(r'(<\\w*Media\\w*> )', '', x))"
   ]
  },
  {
   "cell_type": "code",
   "execution_count": 8,
   "metadata": {},
   "outputs": [
    {
     "data": {
      "text/plain": [
       "(238742, 4)"
      ]
     },
     "execution_count": 8,
     "metadata": {},
     "output_type": "execute_result"
    }
   ],
   "source": [
    "df.message = df.message.apply(lambda x: re.sub(r'(<\\w*Media\\w*> )', '', x))\n",
    "\n",
    "df = df[df.message.apply(lambda x: len(x)) > 0]\n",
    "\n",
    "df.shape"
   ]
  },
  {
   "cell_type": "code",
   "execution_count": 9,
   "metadata": {},
   "outputs": [],
   "source": [
    "# df['from_prev_msg'] = df.datetime - df.datetime.shift(1)\n",
    "\n",
    "# df.from_prev_msg = df.from_prev_msg.astype('timedelta64[h]')\n",
    "# df\n",
    "\n",
    "# df['new_topic'] = df['from_prev_msg'] > 4\n",
    "# df.head()"
   ]
  },
  {
   "cell_type": "code",
   "execution_count": 10,
   "metadata": {},
   "outputs": [
    {
     "data": {
      "text/html": [
       "<div>\n",
       "<style scoped>\n",
       "    .dataframe tbody tr th:only-of-type {\n",
       "        vertical-align: middle;\n",
       "    }\n",
       "\n",
       "    .dataframe tbody tr th {\n",
       "        vertical-align: top;\n",
       "    }\n",
       "\n",
       "    .dataframe thead th {\n",
       "        text-align: right;\n",
       "    }\n",
       "</style>\n",
       "<table border=\"1\" class=\"dataframe\">\n",
       "  <thead>\n",
       "    <tr style=\"text-align: right;\">\n",
       "      <th></th>\n",
       "      <th>datetime</th>\n",
       "      <th>sender_id</th>\n",
       "      <th>sender_name</th>\n",
       "      <th>message</th>\n",
       "    </tr>\n",
       "  </thead>\n",
       "  <tbody>\n",
       "    <tr>\n",
       "      <th>0</th>\n",
       "      <td>2017-03-20 22:34:59+00:00</td>\n",
       "      <td>47683</td>\n",
       "      <td>Oleg Litvinov</td>\n",
       "      <td>1. Берёшь крутой стикер\\n2. Пишешь сообщение\\n...</td>\n",
       "    </tr>\n",
       "    <tr>\n",
       "      <th>1</th>\n",
       "      <td>2017-03-20 22:35:14+00:00</td>\n",
       "      <td>47685</td>\n",
       "      <td>Oleg Litvinov</td>\n",
       "      <td>Привет</td>\n",
       "    </tr>\n",
       "  </tbody>\n",
       "</table>\n",
       "</div>"
      ],
      "text/plain": [
       "                   datetime  sender_id    sender_name  \\\n",
       "0 2017-03-20 22:34:59+00:00      47683  Oleg Litvinov   \n",
       "1 2017-03-20 22:35:14+00:00      47685  Oleg Litvinov   \n",
       "\n",
       "                                             message  \n",
       "0  1. Берёшь крутой стикер\\n2. Пишешь сообщение\\n...  \n",
       "1                                             Привет  "
      ]
     },
     "execution_count": 10,
     "metadata": {},
     "output_type": "execute_result"
    }
   ],
   "source": [
    "df.reset_index(drop=True, inplace=True)\n",
    "df.head(2)"
   ]
  },
  {
   "cell_type": "code",
   "execution_count": 11,
   "metadata": {
    "scrolled": false
   },
   "outputs": [
    {
     "data": {
      "text/plain": [
       "Oleg Litvinov     124726\n",
       "Катя Тимуровна    114016\n",
       "Name: sender_name, dtype: int64"
      ]
     },
     "execution_count": 11,
     "metadata": {},
     "output_type": "execute_result"
    }
   ],
   "source": [
    "df.sender_name.value_counts()"
   ]
  },
  {
   "cell_type": "code",
   "execution_count": 12,
   "metadata": {},
   "outputs": [],
   "source": [
    "df['is_answer'] = df.sender_name != df.sender_name.shift(1)"
   ]
  },
  {
   "cell_type": "code",
   "execution_count": 56,
   "metadata": {},
   "outputs": [],
   "source": [
    "def random_chunk(df, min_chunk=1, max_chunk=3):\n",
    "    from random import randint\n",
    "    df = df.copy()\n",
    "    df.reset_index(drop=True, inplace=True)\n",
    "    \n",
    "    split_list = []\n",
    "    L = len(df)\n",
    "    i = 0\n",
    "    pbar = tqdm(total=L)\n",
    "    while i < L:\n",
    "        r = randint(min(L - i, min_chunk), min(L - i, max_chunk))\n",
    "        yield df.loc[i:i + r - 1, :] # including\n",
    "        i = i + r\n",
    "        pbar.update(r)\n",
    "    pbar.close()"
   ]
  },
  {
   "cell_type": "code",
   "execution_count": 72,
   "metadata": {
    "scrolled": true
   },
   "outputs": [],
   "source": [
    "def generate_train_file(df):\n",
    "    final_string = []\n",
    "    \n",
    "    for chunk in random_chunk(df, min_chunk=3, max_chunk=15):\n",
    "        output_string = \"<s>\" + \"\\n\".join((chunk['sender_name'] + \": \" + chunk['message']).values) + \"</s>\"\n",
    "#         print(output_string)\n",
    "        final_string.append(output_string)\n",
    "    \n",
    "#     for index, series in tqdm(df.iterrows(), total=len(df)):\n",
    "#         print(index)\n",
    "#         if (series['is_answer'] == True) and (index > 10):\n",
    "#             story_len = randrange(1, min(15, index))\n",
    "#             print('story_len', story_len)\n",
    "#             history_df = df.loc[index-story_len:index+1, ['sender_name', 'message']]\n",
    "#             display(history_df)\n",
    "#             output_string = \"<s>\" + \"\\n\".join((history_df['sender_name'] + \": \" + history_df['message']).values) + \"</s>\"\n",
    "#             print(output_string)\n",
    "#             final_string.append(output_string)\n",
    "    lens = np.vectorize(len)(final_string)\n",
    "    print(f\"symbols min:{np.min(lens)}, mean:{np.mean(lens)}, max:{np.max(lens)}\")\n",
    "    \n",
    "    final_string = \"\\n\".join(final_string)\n",
    "    return final_string"
   ]
  },
  {
   "cell_type": "code",
   "execution_count": 58,
   "metadata": {},
   "outputs": [],
   "source": [
    "train_end = date(2020, 1, 1)\n",
    "val_end = date(2021, 1, 1)\n",
    "test_end = df.datetime.max().date() - timedelta(weeks=1)"
   ]
  },
  {
   "cell_type": "code",
   "execution_count": 59,
   "metadata": {
    "scrolled": true
   },
   "outputs": [],
   "source": [
    "train_df = df[df.datetime.dt.date < train_end]\n",
    "val_df = df[(df.datetime.dt.date < val_end) & (df.datetime.dt.date >= train_end)]\n",
    "test_df = df[(df.datetime.dt.date < test_end) & (df.datetime.dt.date >= val_end)]"
   ]
  },
  {
   "cell_type": "code",
   "execution_count": 60,
   "metadata": {
    "scrolled": true
   },
   "outputs": [
    {
     "data": {
      "text/plain": [
       "((173740, 5), (55438, 5), (9152, 5))"
      ]
     },
     "execution_count": 60,
     "metadata": {},
     "output_type": "execute_result"
    }
   ],
   "source": [
    "train_df.shape, val_df.shape, test_df.shape"
   ]
  },
  {
   "cell_type": "code",
   "execution_count": 73,
   "metadata": {
    "scrolled": false
   },
   "outputs": [
    {
     "name": "stderr",
     "output_type": "stream",
     "text": [
      "100%|███████████████████████████████████████████████████████████████████████████| 9152/9152 [00:00<00:00, 14628.17it/s]"
     ]
    },
    {
     "name": "stdout",
     "output_type": "stream",
     "text": [
      "symbols min:61, mean:382.90416263310743, max:2616\n"
     ]
    },
    {
     "name": "stderr",
     "output_type": "stream",
     "text": [
      "\n"
     ]
    }
   ],
   "source": [
    "test_file = generate_train_file(test_df)"
   ]
  },
  {
   "cell_type": "code",
   "execution_count": 74,
   "metadata": {
    "scrolled": true
   },
   "outputs": [
    {
     "name": "stderr",
     "output_type": "stream",
     "text": [
      "100%|█████████████████████████████████████████████████████████████████████████| 55438/55438 [00:04<00:00, 13605.53it/s]\n"
     ]
    },
    {
     "name": "stdout",
     "output_type": "stream",
     "text": [
      "symbols min:62, mean:422.65509868421054, max:5862\n"
     ]
    }
   ],
   "source": [
    "val_file = generate_train_file(val_df)"
   ]
  },
  {
   "cell_type": "code",
   "execution_count": 75,
   "metadata": {
    "scrolled": true
   },
   "outputs": [
    {
     "name": "stderr",
     "output_type": "stream",
     "text": [
      "100%|███████████████████████████████████████████████████████████████████████| 173740/173740 [00:14<00:00, 12094.02it/s]\n"
     ]
    },
    {
     "name": "stdout",
     "output_type": "stream",
     "text": [
      "symbols min:62, mean:445.2875469336671, max:3043\n"
     ]
    }
   ],
   "source": [
    "train_file = generate_train_file(train_df)"
   ]
  },
  {
   "cell_type": "code",
   "execution_count": 64,
   "metadata": {
    "code_folding": []
   },
   "outputs": [],
   "source": [
    "def check_path(filepath):\n",
    "    if not os.path.exists(os.path.dirname(filepath)):\n",
    "        try:\n",
    "            os.makedirs(os.path.dirname(filepath))\n",
    "        except OSError as exc: # Guard against race condition\n",
    "            if exc.errno != errno.EEXIST:\n",
    "                raise\n",
    "            \n",
    "def save_to_txt(file, path):\n",
    "    check_path(path)\n",
    "    with open(path, \"w\", encoding=\"utf-8\") as text_file:\n",
    "        text_file.write(file)"
   ]
  },
  {
   "cell_type": "code",
   "execution_count": 66,
   "metadata": {
    "scrolled": true
   },
   "outputs": [],
   "source": [
    "save_to_txt(train_file, os.path.join(dialogues_dir, companion_name, 'train.txt'))\n",
    "save_to_txt(val_file, os.path.join(dialogues_dir, companion_name, 'valid.txt'))\n",
    "save_to_txt(test_file, os.path.join(dialogues_dir, companion_name, 'test.txt'))"
   ]
  }
 ],
 "metadata": {
  "kernelspec": {
   "display_name": "Python 3",
   "language": "python",
   "name": "python3"
  },
  "language_info": {
   "codemirror_mode": {
    "name": "ipython",
    "version": 3
   },
   "file_extension": ".py",
   "mimetype": "text/x-python",
   "name": "python",
   "nbconvert_exporter": "python",
   "pygments_lexer": "ipython3",
   "version": "3.6.9"
  },
  "latex_envs": {
   "LaTeX_envs_menu_present": true,
   "autoclose": false,
   "autocomplete": true,
   "bibliofile": "biblio.bib",
   "cite_by": "apalike",
   "current_citInitial": 1,
   "eqLabelWithNumbers": true,
   "eqNumInitial": 1,
   "hotkeys": {
    "equation": "Ctrl-E",
    "itemize": "Ctrl-I"
   },
   "labels_anchors": false,
   "latex_user_defs": false,
   "report_style_numbering": false,
   "user_envs_cfg": false
  },
  "toc": {
   "base_numbering": 1,
   "nav_menu": {},
   "number_sections": true,
   "sideBar": true,
   "skip_h1_title": false,
   "title_cell": "Table of Contents",
   "title_sidebar": "Contents",
   "toc_cell": false,
   "toc_position": {},
   "toc_section_display": true,
   "toc_window_display": true
  },
  "varInspector": {
   "cols": {
    "lenName": 16,
    "lenType": 16,
    "lenVar": 40
   },
   "kernels_config": {
    "python": {
     "delete_cmd_postfix": "",
     "delete_cmd_prefix": "del ",
     "library": "var_list.py",
     "varRefreshCmd": "print(var_dic_list())"
    },
    "r": {
     "delete_cmd_postfix": ") ",
     "delete_cmd_prefix": "rm(",
     "library": "var_list.r",
     "varRefreshCmd": "cat(var_dic_list()) "
    }
   },
   "types_to_exclude": [
    "module",
    "function",
    "builtin_function_or_method",
    "instance",
    "_Feature"
   ],
   "window_display": false
  }
 },
 "nbformat": 4,
 "nbformat_minor": 2
}
